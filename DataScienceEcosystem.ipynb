{
 "cells": [
  {
   "cell_type": "code",
   "execution_count": 12,
   "id": "854e9314-48c4-46f1-b94d-fba88ff5329c",
   "metadata": {
    "editable": true,
    "slideshow": {
     "slide_type": ""
    },
    "tags": []
   },
   "outputs": [],
   "source": [
    "# Data Science Tools and Ecosystem"
   ]
  },
  {
   "cell_type": "markdown",
   "id": "121ddc89-a811-476c-8c20-9371fb363130",
   "metadata": {},
   "source": [
    "In this Notebook, Data Science Tools and Ecosystem are summarized."
   ]
  },
  {
   "cell_type": "markdown",
   "id": "6b4919e6-82d3-40d7-9d2d-8ac782f49cc9",
   "metadata": {},
   "source": [
    "Some of the popular languages that Data Scientists use are:\n",
    "1. Python\n",
    "2. R\n",
    "3. C++\n",
    "4. SQL"
   ]
  },
  {
   "cell_type": "markdown",
   "id": "d38b4ec2-363d-40f4-a753-b427feb9b7cc",
   "metadata": {},
   "source": [
    "Some of the commonly used libraries used by Data Scientists include:\n",
    "1. NumPy\n",
    "2. Pandas\n",
    "3. Tensorflow\n",
    "4. SciPy"
   ]
  },
  {
   "cell_type": "markdown",
   "id": "990108ed-c891-46fe-98da-ea976a2cab7d",
   "metadata": {},
   "source": [
    "|Data Science Tools|\n",
    "|-------------|\n",
    "|Apache Hadoop|\n",
    "|SAS|\n",
    "|Tensorflow|"
   ]
  },
  {
   "cell_type": "markdown",
   "id": "60c3a57e-fcde-41a4-98d8-552b8b27bbe0",
   "metadata": {},
   "source": [
    "### Below are a few examples of evaluating arithmetic expressions in Python.\n"
   ]
  },
  {
   "cell_type": "code",
   "execution_count": 10,
   "id": "cbdcdc23-0a2a-4bac-999e-18f1e720425e",
   "metadata": {},
   "outputs": [
    {
     "data": {
      "text/plain": [
       "17"
      ]
     },
     "execution_count": 10,
     "metadata": {},
     "output_type": "execute_result"
    }
   ],
   "source": [
    "#This a simple arithmetic expression to mutiply then add integers.\n",
    "(3*4)+5"
   ]
  },
  {
   "cell_type": "code",
   "execution_count": 11,
   "id": "9483a6d5-4384-4af8-9657-9fd9a5e900b0",
   "metadata": {},
   "outputs": [
    {
     "data": {
      "text/plain": [
       "3.3333333333333335"
      ]
     },
     "execution_count": 11,
     "metadata": {},
     "output_type": "execute_result"
    }
   ],
   "source": [
    "#This will convert 200 minutes to hours by diving by 60\n",
    "200/60"
   ]
  },
  {
   "cell_type": "markdown",
   "id": "25932461-f03f-4b33-b3ee-ddb031e61f8f",
   "metadata": {},
   "source": [
    "__Objective__\n",
    "* List popular languages for Data Science\n",
    "* List popular liberaries for Data Science\n",
    "* List of well known Data Science Tools\n",
    "* How to provide comments in the cell\n",
    "  "
   ]
  },
  {
   "cell_type": "markdown",
   "id": "6ab8906a-922e-431e-9529-1a5f5cf845fb",
   "metadata": {},
   "source": [
    "## Author\n",
    "Richard Ennist"
   ]
  },
  {
   "cell_type": "markdown",
   "id": "4b8a0ccf-ea71-4557-916a-4b76ade66f6a",
   "metadata": {},
   "source": []
  }
 ],
 "metadata": {
  "kernelspec": {
   "display_name": "Python 3 (ipykernel)",
   "language": "python",
   "name": "python3"
  },
  "language_info": {
   "codemirror_mode": {
    "name": "ipython",
    "version": 3
   },
   "file_extension": ".py",
   "mimetype": "text/x-python",
   "name": "python",
   "nbconvert_exporter": "python",
   "pygments_lexer": "ipython3",
   "version": "3.12.8"
  }
 },
 "nbformat": 4,
 "nbformat_minor": 5
}
